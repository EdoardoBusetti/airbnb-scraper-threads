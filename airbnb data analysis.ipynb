{
 "cells": [
  {
   "cell_type": "code",
   "execution_count": 3,
   "id": "77f9d2e2-dad3-46bc-a2ed-811c53f5b77a",
   "metadata": {},
   "outputs": [],
   "source": [
    "import pandas as pd\n",
    "from utils import create_connection"
   ]
  },
  {
   "cell_type": "code",
   "execution_count": 4,
   "id": "a2703937",
   "metadata": {},
   "outputs": [],
   "source": [
    "conn = create_connection('data/airbnb.db',connection_type = 'sqlite3')"
   ]
  },
  {
   "cell_type": "code",
   "execution_count": 5,
   "id": "b8758455",
   "metadata": {},
   "outputs": [
    {
     "data": {
      "text/html": [
       "<div>\n",
       "<style scoped>\n",
       "    .dataframe tbody tr th:only-of-type {\n",
       "        vertical-align: middle;\n",
       "    }\n",
       "\n",
       "    .dataframe tbody tr th {\n",
       "        vertical-align: top;\n",
       "    }\n",
       "\n",
       "    .dataframe thead th {\n",
       "        text-align: right;\n",
       "    }\n",
       "</style>\n",
       "<table border=\"1\" class=\"dataframe\">\n",
       "  <thead>\n",
       "    <tr style=\"text-align: right;\">\n",
       "      <th></th>\n",
       "      <th>name</th>\n",
       "    </tr>\n",
       "  </thead>\n",
       "  <tbody>\n",
       "    <tr>\n",
       "      <th>0</th>\n",
       "      <td>airbnb_room</td>\n",
       "    </tr>\n",
       "    <tr>\n",
       "      <th>1</th>\n",
       "      <td>airbnb_calendar</td>\n",
       "    </tr>\n",
       "  </tbody>\n",
       "</table>\n",
       "</div>"
      ],
      "text/plain": [
       "              name\n",
       "0      airbnb_room\n",
       "1  airbnb_calendar"
      ]
     },
     "execution_count": 5,
     "metadata": {},
     "output_type": "execute_result"
    }
   ],
   "source": [
    "tables_df = pd.read_sql(\"\"\"SELECT name FROM sqlite_master  WHERE type='table';\"\"\",con=conn)\n",
    "tables_df"
   ]
  },
  {
   "cell_type": "code",
   "execution_count": 15,
   "id": "6627fa7a",
   "metadata": {},
   "outputs": [],
   "source": [
    "airbnb_room_df = pd.read_sql(\"\"\"select * \n",
    "                             from airbnb_room \n",
    "                             where True\n",
    "                             --and id = '18086628'\n",
    "                             \n",
    "                             order by last_modified desc\"\"\",con=conn)"
   ]
  },
  {
   "cell_type": "code",
   "execution_count": 16,
   "id": "32084734",
   "metadata": {},
   "outputs": [
    {
     "data": {
      "text/html": [
       "<div>\n",
       "<style scoped>\n",
       "    .dataframe tbody tr th:only-of-type {\n",
       "        vertical-align: middle;\n",
       "    }\n",
       "\n",
       "    .dataframe tbody tr th {\n",
       "        vertical-align: top;\n",
       "    }\n",
       "\n",
       "    .dataframe thead th {\n",
       "        text-align: right;\n",
       "    }\n",
       "</style>\n",
       "<table border=\"1\" class=\"dataframe\">\n",
       "  <thead>\n",
       "    <tr style=\"text-align: right;\">\n",
       "      <th></th>\n",
       "      <th>id</th>\n",
       "      <th>create_date</th>\n",
       "      <th>last_modified</th>\n",
       "      <th>number_updates</th>\n",
       "      <th>room_url</th>\n",
       "    </tr>\n",
       "  </thead>\n",
       "  <tbody>\n",
       "    <tr>\n",
       "      <th>0</th>\n",
       "      <td>31335624</td>\n",
       "      <td>2024-06-12 07:32:50</td>\n",
       "      <td>2024-08-26 16:01:59</td>\n",
       "      <td>21</td>\n",
       "      <td>www.airbnb.com/rooms/31335624?adults=2&amp;childre...</td>\n",
       "    </tr>\n",
       "    <tr>\n",
       "      <th>1</th>\n",
       "      <td>817196070864448954</td>\n",
       "      <td>2024-06-12 07:32:50</td>\n",
       "      <td>2024-08-26 16:01:59</td>\n",
       "      <td>19</td>\n",
       "      <td>www.airbnb.com/rooms/817196070864448954?adults...</td>\n",
       "    </tr>\n",
       "    <tr>\n",
       "      <th>2</th>\n",
       "      <td>24883185</td>\n",
       "      <td>2024-06-12 07:32:50</td>\n",
       "      <td>2024-08-26 16:01:59</td>\n",
       "      <td>31</td>\n",
       "      <td>www.airbnb.com/rooms/24883185?adults=2&amp;childre...</td>\n",
       "    </tr>\n",
       "    <tr>\n",
       "      <th>3</th>\n",
       "      <td>34808908</td>\n",
       "      <td>2024-06-12 07:32:50</td>\n",
       "      <td>2024-08-26 16:01:59</td>\n",
       "      <td>13</td>\n",
       "      <td>www.airbnb.com/rooms/34808908?adults=2&amp;childre...</td>\n",
       "    </tr>\n",
       "    <tr>\n",
       "      <th>4</th>\n",
       "      <td>1074724472918633842</td>\n",
       "      <td>2024-06-12 07:32:50</td>\n",
       "      <td>2024-08-26 16:01:59</td>\n",
       "      <td>29</td>\n",
       "      <td>www.airbnb.com/rooms/1074724472918633842?adult...</td>\n",
       "    </tr>\n",
       "    <tr>\n",
       "      <th>...</th>\n",
       "      <td>...</td>\n",
       "      <td>...</td>\n",
       "      <td>...</td>\n",
       "      <td>...</td>\n",
       "      <td>...</td>\n",
       "    </tr>\n",
       "    <tr>\n",
       "      <th>1958</th>\n",
       "      <td>1047051915405690952</td>\n",
       "      <td>2024-06-12 13:59:51</td>\n",
       "      <td>None</td>\n",
       "      <td>0</td>\n",
       "      <td>www.airbnb.com/rooms/1047051915405690952?adult...</td>\n",
       "    </tr>\n",
       "    <tr>\n",
       "      <th>1959</th>\n",
       "      <td>1177294408721270246</td>\n",
       "      <td>2024-06-12 14:51:57</td>\n",
       "      <td>None</td>\n",
       "      <td>0</td>\n",
       "      <td>www.airbnb.com/rooms/1177294408721270246?adult...</td>\n",
       "    </tr>\n",
       "    <tr>\n",
       "      <th>1960</th>\n",
       "      <td>765918426420984116</td>\n",
       "      <td>2024-06-12 14:51:58</td>\n",
       "      <td>None</td>\n",
       "      <td>0</td>\n",
       "      <td>www.airbnb.com/rooms/765918426420984116?adults...</td>\n",
       "    </tr>\n",
       "    <tr>\n",
       "      <th>1961</th>\n",
       "      <td>1004109262864251827</td>\n",
       "      <td>2024-06-12 14:51:58</td>\n",
       "      <td>None</td>\n",
       "      <td>0</td>\n",
       "      <td>www.airbnb.com/rooms/1004109262864251827?adult...</td>\n",
       "    </tr>\n",
       "    <tr>\n",
       "      <th>1962</th>\n",
       "      <td>1005514482857727617</td>\n",
       "      <td>2024-06-12 14:51:58</td>\n",
       "      <td>None</td>\n",
       "      <td>0</td>\n",
       "      <td>www.airbnb.com/rooms/1005514482857727617?adult...</td>\n",
       "    </tr>\n",
       "  </tbody>\n",
       "</table>\n",
       "<p>1963 rows × 5 columns</p>\n",
       "</div>"
      ],
      "text/plain": [
       "                       id          create_date        last_modified  \\\n",
       "0                31335624  2024-06-12 07:32:50  2024-08-26 16:01:59   \n",
       "1      817196070864448954  2024-06-12 07:32:50  2024-08-26 16:01:59   \n",
       "2                24883185  2024-06-12 07:32:50  2024-08-26 16:01:59   \n",
       "3                34808908  2024-06-12 07:32:50  2024-08-26 16:01:59   \n",
       "4     1074724472918633842  2024-06-12 07:32:50  2024-08-26 16:01:59   \n",
       "...                   ...                  ...                  ...   \n",
       "1958  1047051915405690952  2024-06-12 13:59:51                 None   \n",
       "1959  1177294408721270246  2024-06-12 14:51:57                 None   \n",
       "1960   765918426420984116  2024-06-12 14:51:58                 None   \n",
       "1961  1004109262864251827  2024-06-12 14:51:58                 None   \n",
       "1962  1005514482857727617  2024-06-12 14:51:58                 None   \n",
       "\n",
       "      number_updates                                           room_url  \n",
       "0                 21  www.airbnb.com/rooms/31335624?adults=2&childre...  \n",
       "1                 19  www.airbnb.com/rooms/817196070864448954?adults...  \n",
       "2                 31  www.airbnb.com/rooms/24883185?adults=2&childre...  \n",
       "3                 13  www.airbnb.com/rooms/34808908?adults=2&childre...  \n",
       "4                 29  www.airbnb.com/rooms/1074724472918633842?adult...  \n",
       "...              ...                                                ...  \n",
       "1958               0  www.airbnb.com/rooms/1047051915405690952?adult...  \n",
       "1959               0  www.airbnb.com/rooms/1177294408721270246?adult...  \n",
       "1960               0  www.airbnb.com/rooms/765918426420984116?adults...  \n",
       "1961               0  www.airbnb.com/rooms/1004109262864251827?adult...  \n",
       "1962               0  www.airbnb.com/rooms/1005514482857727617?adult...  \n",
       "\n",
       "[1963 rows x 5 columns]"
      ]
     },
     "execution_count": 16,
     "metadata": {},
     "output_type": "execute_result"
    }
   ],
   "source": [
    "airbnb_room_df"
   ]
  },
  {
   "cell_type": "code",
   "execution_count": 8,
   "id": "1e835fb0",
   "metadata": {},
   "outputs": [
    {
     "data": {
      "text/html": [
       "<div>\n",
       "<style scoped>\n",
       "    .dataframe tbody tr th:only-of-type {\n",
       "        vertical-align: middle;\n",
       "    }\n",
       "\n",
       "    .dataframe tbody tr th {\n",
       "        vertical-align: top;\n",
       "    }\n",
       "\n",
       "    .dataframe thead th {\n",
       "        text-align: right;\n",
       "    }\n",
       "</style>\n",
       "<table border=\"1\" class=\"dataframe\">\n",
       "  <thead>\n",
       "    <tr style=\"text-align: right;\">\n",
       "      <th></th>\n",
       "      <th>id</th>\n",
       "      <th>create_date</th>\n",
       "      <th>last_modified</th>\n",
       "      <th>number_updates</th>\n",
       "      <th>room_url</th>\n",
       "    </tr>\n",
       "  </thead>\n",
       "  <tbody>\n",
       "    <tr>\n",
       "      <th>0</th>\n",
       "      <td>18086628</td>\n",
       "      <td>2024-06-12 07:32:51</td>\n",
       "      <td>2024-08-26 15:35:35</td>\n",
       "      <td>15</td>\n",
       "      <td>www.airbnb.com/rooms/18086628?adults=2&amp;childre...</td>\n",
       "    </tr>\n",
       "  </tbody>\n",
       "</table>\n",
       "</div>"
      ],
      "text/plain": [
       "         id          create_date        last_modified  number_updates  \\\n",
       "0  18086628  2024-06-12 07:32:51  2024-08-26 15:35:35              15   \n",
       "\n",
       "                                            room_url  \n",
       "0  www.airbnb.com/rooms/18086628?adults=2&childre...  "
      ]
     },
     "execution_count": 8,
     "metadata": {},
     "output_type": "execute_result"
    }
   ],
   "source": [
    "airbnb_room_df"
   ]
  },
  {
   "cell_type": "code",
   "execution_count": 134,
   "id": "9f5538ad",
   "metadata": {},
   "outputs": [],
   "source": [
    "current_calendar_df= pd.read_csv('temp_df.csv')\n",
    "current_calendar_df.drop_duplicates(subset='date', keep='first')\n",
    "current_calendar_df['date'] = pd.to_datetime(current_calendar_df['date']).dt.date\n",
    "current_calendar_active_days_df = current_calendar_df[~current_calendar_df['day_disabled']].copy()\n",
    "current_calendar_active_days_df['days_group'] = ((current_calendar_active_days_df['date'] - current_calendar_active_days_df['date'].shift(1)) != pd.Timedelta(days=1)).cumsum()\n",
    "current_calendar_active_days_groups = current_calendar_active_days_df.groupby(['days_group']).agg({'date':['min','max']}).reset_index()\n",
    "current_calendar_active_days_groups.columns = [f\"{i[0]}_{i[1]}\" if i[1] else i[0] for i in current_calendar_active_days_groups.columns]"
   ]
  },
  {
   "cell_type": "code",
   "execution_count": 139,
   "id": "1fbee675",
   "metadata": {},
   "outputs": [
    {
     "data": {
      "text/plain": [
       "array(['Available, but has no eligible checkout date, due to the 2 night stay requirement.'],\n",
       "      dtype=object)"
      ]
     },
     "execution_count": 139,
     "metadata": {},
     "output_type": "execute_result"
    }
   ],
   "source": [
    "current_calendar_df[current_calendar_df['reason_string'].str.contains('Available, but has no eligible checkout date')].reason_string.unique()"
   ]
  },
  {
   "cell_type": "code",
   "execution_count": 142,
   "id": "869f2d98",
   "metadata": {},
   "outputs": [
    {
     "data": {
      "text/plain": [
       "array(['Available. There is a 1 night minimum stay requirement. Select as check-in date.',\n",
       "       'Available, but has no eligible checkout date, due to the 2 night stay requirement.',\n",
       "       'This day is only available for checkout.'], dtype=object)"
      ]
     },
     "execution_count": 142,
     "metadata": {},
     "output_type": "execute_result"
    }
   ],
   "source": [
    "current_calendar_active_days_df.reason_string.unique()"
   ]
  },
  {
   "cell_type": "code",
   "execution_count": 132,
   "id": "0f51d7c6",
   "metadata": {},
   "outputs": [],
   "source": []
  },
  {
   "cell_type": "code",
   "execution_count": 133,
   "id": "427b9d2a",
   "metadata": {},
   "outputs": [
    {
     "data": {
      "text/plain": [
       "Index(['days_group', 'date_min', 'date_max'], dtype='object')"
      ]
     },
     "execution_count": 133,
     "metadata": {},
     "output_type": "execute_result"
    }
   ],
   "source": [
    "current_calendar_active_days_groups.columns"
   ]
  },
  {
   "cell_type": "code",
   "execution_count": 111,
   "id": "35e9cb7b",
   "metadata": {},
   "outputs": [
    {
     "data": {
      "text/html": [
       "<div>\n",
       "<style scoped>\n",
       "    .dataframe tbody tr th:only-of-type {\n",
       "        vertical-align: middle;\n",
       "    }\n",
       "\n",
       "    .dataframe tbody tr th {\n",
       "        vertical-align: top;\n",
       "    }\n",
       "\n",
       "    .dataframe thead th {\n",
       "        text-align: right;\n",
       "    }\n",
       "</style>\n",
       "<table border=\"1\" class=\"dataframe\">\n",
       "  <thead>\n",
       "    <tr style=\"text-align: right;\">\n",
       "      <th></th>\n",
       "      <th>day_disabled</th>\n",
       "      <th>date</th>\n",
       "      <th>reason_string</th>\n",
       "    </tr>\n",
       "  </thead>\n",
       "  <tbody>\n",
       "    <tr>\n",
       "      <th>0</th>\n",
       "      <td>True</td>\n",
       "      <td>2024-08-01</td>\n",
       "      <td>Past dates can’t be selected.</td>\n",
       "    </tr>\n",
       "    <tr>\n",
       "      <th>1</th>\n",
       "      <td>True</td>\n",
       "      <td>2024-08-02</td>\n",
       "      <td>Past dates can’t be selected.</td>\n",
       "    </tr>\n",
       "    <tr>\n",
       "      <th>2</th>\n",
       "      <td>True</td>\n",
       "      <td>2024-08-03</td>\n",
       "      <td>Past dates can’t be selected.</td>\n",
       "    </tr>\n",
       "    <tr>\n",
       "      <th>3</th>\n",
       "      <td>True</td>\n",
       "      <td>2024-08-04</td>\n",
       "      <td>Past dates can’t be selected.</td>\n",
       "    </tr>\n",
       "    <tr>\n",
       "      <th>4</th>\n",
       "      <td>True</td>\n",
       "      <td>2024-08-05</td>\n",
       "      <td>Past dates can’t be selected.</td>\n",
       "    </tr>\n",
       "    <tr>\n",
       "      <th>...</th>\n",
       "      <td>...</td>\n",
       "      <td>...</td>\n",
       "      <td>...</td>\n",
       "    </tr>\n",
       "    <tr>\n",
       "      <th>238</th>\n",
       "      <td>True</td>\n",
       "      <td>2025-03-27</td>\n",
       "      <td>Unavailable</td>\n",
       "    </tr>\n",
       "    <tr>\n",
       "      <th>239</th>\n",
       "      <td>True</td>\n",
       "      <td>2025-03-28</td>\n",
       "      <td>Unavailable</td>\n",
       "    </tr>\n",
       "    <tr>\n",
       "      <th>240</th>\n",
       "      <td>True</td>\n",
       "      <td>2025-03-29</td>\n",
       "      <td>Unavailable</td>\n",
       "    </tr>\n",
       "    <tr>\n",
       "      <th>241</th>\n",
       "      <td>True</td>\n",
       "      <td>2025-03-30</td>\n",
       "      <td>Unavailable</td>\n",
       "    </tr>\n",
       "    <tr>\n",
       "      <th>242</th>\n",
       "      <td>True</td>\n",
       "      <td>2025-03-31</td>\n",
       "      <td>Unavailable</td>\n",
       "    </tr>\n",
       "  </tbody>\n",
       "</table>\n",
       "<p>243 rows × 3 columns</p>\n",
       "</div>"
      ],
      "text/plain": [
       "     day_disabled        date                  reason_string\n",
       "0            True  2024-08-01  Past dates can’t be selected.\n",
       "1            True  2024-08-02  Past dates can’t be selected.\n",
       "2            True  2024-08-03  Past dates can’t be selected.\n",
       "3            True  2024-08-04  Past dates can’t be selected.\n",
       "4            True  2024-08-05  Past dates can’t be selected.\n",
       "..            ...         ...                            ...\n",
       "238          True  2025-03-27                    Unavailable\n",
       "239          True  2025-03-28                    Unavailable\n",
       "240          True  2025-03-29                    Unavailable\n",
       "241          True  2025-03-30                    Unavailable\n",
       "242          True  2025-03-31                    Unavailable\n",
       "\n",
       "[243 rows x 3 columns]"
      ]
     },
     "execution_count": 111,
     "metadata": {},
     "output_type": "execute_result"
    }
   ],
   "source": [
    "temp_df"
   ]
  },
  {
   "cell_type": "code",
   "execution_count": 63,
   "id": "8e46040c",
   "metadata": {},
   "outputs": [],
   "source": [
    "a_df = pd.DataFrame(a)"
   ]
  },
  {
   "cell_type": "code",
   "execution_count": 67,
   "id": "bfc1f366",
   "metadata": {},
   "outputs": [
    {
     "name": "stdout",
     "output_type": "stream",
     "text": [
      "163 μs ± 10.7 μs per loop (mean ± std. dev. of 7 runs, 10,000 loops each)\n"
     ]
    }
   ],
   "source": [
    "%%timeit\n",
    "a_df[~a_df['reason_string'].isin(['Past dates can’t be selected.'])]"
   ]
  },
  {
   "cell_type": "code",
   "execution_count": 68,
   "id": "30b66817",
   "metadata": {},
   "outputs": [
    {
     "data": {
      "text/html": [
       "<div>\n",
       "<style scoped>\n",
       "    .dataframe tbody tr th:only-of-type {\n",
       "        vertical-align: middle;\n",
       "    }\n",
       "\n",
       "    .dataframe tbody tr th {\n",
       "        vertical-align: top;\n",
       "    }\n",
       "\n",
       "    .dataframe thead th {\n",
       "        text-align: right;\n",
       "    }\n",
       "</style>\n",
       "<table border=\"1\" class=\"dataframe\">\n",
       "  <thead>\n",
       "    <tr style=\"text-align: right;\">\n",
       "      <th></th>\n",
       "      <th>day_disabled</th>\n",
       "      <th>date</th>\n",
       "      <th>reason_string</th>\n",
       "    </tr>\n",
       "  </thead>\n",
       "  <tbody>\n",
       "    <tr>\n",
       "      <th>32</th>\n",
       "      <td>True</td>\n",
       "      <td>2024-09-02</td>\n",
       "      <td>Unavailable</td>\n",
       "    </tr>\n",
       "    <tr>\n",
       "      <th>33</th>\n",
       "      <td>True</td>\n",
       "      <td>2024-09-03</td>\n",
       "      <td>Unavailable</td>\n",
       "    </tr>\n",
       "    <tr>\n",
       "      <th>34</th>\n",
       "      <td>True</td>\n",
       "      <td>2024-09-04</td>\n",
       "      <td>Unavailable</td>\n",
       "    </tr>\n",
       "    <tr>\n",
       "      <th>35</th>\n",
       "      <td>True</td>\n",
       "      <td>2024-09-05</td>\n",
       "      <td>Unavailable</td>\n",
       "    </tr>\n",
       "    <tr>\n",
       "      <th>36</th>\n",
       "      <td>True</td>\n",
       "      <td>2024-09-06</td>\n",
       "      <td>Unavailable</td>\n",
       "    </tr>\n",
       "    <tr>\n",
       "      <th>...</th>\n",
       "      <td>...</td>\n",
       "      <td>...</td>\n",
       "      <td>...</td>\n",
       "    </tr>\n",
       "    <tr>\n",
       "      <th>238</th>\n",
       "      <td>True</td>\n",
       "      <td>2025-03-27</td>\n",
       "      <td>Unavailable</td>\n",
       "    </tr>\n",
       "    <tr>\n",
       "      <th>239</th>\n",
       "      <td>True</td>\n",
       "      <td>2025-03-28</td>\n",
       "      <td>Unavailable</td>\n",
       "    </tr>\n",
       "    <tr>\n",
       "      <th>240</th>\n",
       "      <td>True</td>\n",
       "      <td>2025-03-29</td>\n",
       "      <td>Unavailable</td>\n",
       "    </tr>\n",
       "    <tr>\n",
       "      <th>241</th>\n",
       "      <td>True</td>\n",
       "      <td>2025-03-30</td>\n",
       "      <td>Unavailable</td>\n",
       "    </tr>\n",
       "    <tr>\n",
       "      <th>242</th>\n",
       "      <td>True</td>\n",
       "      <td>2025-03-31</td>\n",
       "      <td>Unavailable</td>\n",
       "    </tr>\n",
       "  </tbody>\n",
       "</table>\n",
       "<p>211 rows × 3 columns</p>\n",
       "</div>"
      ],
      "text/plain": [
       "     day_disabled        date reason_string\n",
       "32           True  2024-09-02   Unavailable\n",
       "33           True  2024-09-03   Unavailable\n",
       "34           True  2024-09-04   Unavailable\n",
       "35           True  2024-09-05   Unavailable\n",
       "36           True  2024-09-06   Unavailable\n",
       "..            ...         ...           ...\n",
       "238          True  2025-03-27   Unavailable\n",
       "239          True  2025-03-28   Unavailable\n",
       "240          True  2025-03-29   Unavailable\n",
       "241          True  2025-03-30   Unavailable\n",
       "242          True  2025-03-31   Unavailable\n",
       "\n",
       "[211 rows x 3 columns]"
      ]
     },
     "execution_count": 68,
     "metadata": {},
     "output_type": "execute_result"
    }
   ],
   "source": [
    "a_df[~a_df['reason_string'].isin(['Past dates can’t be selected.'])]"
   ]
  },
  {
   "cell_type": "code",
   "execution_count": null,
   "id": "9b2f904d",
   "metadata": {},
   "outputs": [],
   "source": []
  }
 ],
 "metadata": {
  "kernelspec": {
   "display_name": "Python 3 (ipykernel)",
   "language": "python",
   "name": "python3"
  },
  "language_info": {
   "codemirror_mode": {
    "name": "ipython",
    "version": 3
   },
   "file_extension": ".py",
   "mimetype": "text/x-python",
   "name": "python",
   "nbconvert_exporter": "python",
   "pygments_lexer": "ipython3",
   "version": "3.11.9"
  }
 },
 "nbformat": 4,
 "nbformat_minor": 5
}
