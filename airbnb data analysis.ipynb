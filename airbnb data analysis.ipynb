{
 "cells": [
  {
   "cell_type": "code",
   "execution_count": 4,
   "id": "77f9d2e2-dad3-46bc-a2ed-811c53f5b77a",
   "metadata": {},
   "outputs": [],
   "source": [
    "import pandas as pd\n",
    "from utils import create_connection"
   ]
  },
  {
   "cell_type": "code",
   "execution_count": 10,
   "id": "a2703937",
   "metadata": {},
   "outputs": [],
   "source": [
    "conn = create_connection('data/airbnb.db',connection_type = 'sqlite3')"
   ]
  },
  {
   "cell_type": "code",
   "execution_count": 15,
   "id": "b8758455",
   "metadata": {},
   "outputs": [
    {
     "data": {
      "text/html": [
       "<div>\n",
       "<style scoped>\n",
       "    .dataframe tbody tr th:only-of-type {\n",
       "        vertical-align: middle;\n",
       "    }\n",
       "\n",
       "    .dataframe tbody tr th {\n",
       "        vertical-align: top;\n",
       "    }\n",
       "\n",
       "    .dataframe thead th {\n",
       "        text-align: right;\n",
       "    }\n",
       "</style>\n",
       "<table border=\"1\" class=\"dataframe\">\n",
       "  <thead>\n",
       "    <tr style=\"text-align: right;\">\n",
       "      <th></th>\n",
       "      <th>name</th>\n",
       "    </tr>\n",
       "  </thead>\n",
       "  <tbody>\n",
       "    <tr>\n",
       "      <th>0</th>\n",
       "      <td>airbnb_room</td>\n",
       "    </tr>\n",
       "  </tbody>\n",
       "</table>\n",
       "</div>"
      ],
      "text/plain": [
       "          name\n",
       "0  airbnb_room"
      ]
     },
     "execution_count": 15,
     "metadata": {},
     "output_type": "execute_result"
    }
   ],
   "source": [
    "tables_df = pd.read_sql(\"\"\"SELECT name FROM sqlite_master  WHERE type='table';\"\"\",con=conn)\n",
    "tables_df"
   ]
  },
  {
   "cell_type": "code",
   "execution_count": 37,
   "id": "6627fa7a",
   "metadata": {},
   "outputs": [],
   "source": [
    "airbnb_room_df = pd.read_sql(\"\"\"select * \n",
    "                             from airbnb_room \n",
    "                             where id = '18086628'\n",
    "                             \n",
    "                             order by last_modified desc\"\"\",con=conn)"
   ]
  },
  {
   "cell_type": "code",
   "execution_count": 38,
   "id": "32084734",
   "metadata": {},
   "outputs": [
    {
     "data": {
      "text/html": [
       "<div>\n",
       "<style scoped>\n",
       "    .dataframe tbody tr th:only-of-type {\n",
       "        vertical-align: middle;\n",
       "    }\n",
       "\n",
       "    .dataframe tbody tr th {\n",
       "        vertical-align: top;\n",
       "    }\n",
       "\n",
       "    .dataframe thead th {\n",
       "        text-align: right;\n",
       "    }\n",
       "</style>\n",
       "<table border=\"1\" class=\"dataframe\">\n",
       "  <thead>\n",
       "    <tr style=\"text-align: right;\">\n",
       "      <th></th>\n",
       "      <th>id</th>\n",
       "      <th>create_date</th>\n",
       "      <th>last_modified</th>\n",
       "      <th>number_updates</th>\n",
       "      <th>room_url</th>\n",
       "    </tr>\n",
       "  </thead>\n",
       "  <tbody>\n",
       "    <tr>\n",
       "      <th>0</th>\n",
       "      <td>18086628</td>\n",
       "      <td>2024-06-12 07:32:51</td>\n",
       "      <td>2024-06-12 20:57:55</td>\n",
       "      <td>11</td>\n",
       "      <td>www.airbnb.com/rooms/18086628?adults=2&amp;childre...</td>\n",
       "    </tr>\n",
       "  </tbody>\n",
       "</table>\n",
       "</div>"
      ],
      "text/plain": [
       "         id          create_date        last_modified  number_updates  \\\n",
       "0  18086628  2024-06-12 07:32:51  2024-06-12 20:57:55              11   \n",
       "\n",
       "                                            room_url  \n",
       "0  www.airbnb.com/rooms/18086628?adults=2&childre...  "
      ]
     },
     "execution_count": 38,
     "metadata": {},
     "output_type": "execute_result"
    }
   ],
   "source": [
    "airbnb_room_df"
   ]
  },
  {
   "cell_type": "code",
   "execution_count": 32,
   "id": "1e835fb0",
   "metadata": {},
   "outputs": [
    {
     "data": {
      "text/html": [
       "<div>\n",
       "<style scoped>\n",
       "    .dataframe tbody tr th:only-of-type {\n",
       "        vertical-align: middle;\n",
       "    }\n",
       "\n",
       "    .dataframe tbody tr th {\n",
       "        vertical-align: top;\n",
       "    }\n",
       "\n",
       "    .dataframe thead th {\n",
       "        text-align: right;\n",
       "    }\n",
       "</style>\n",
       "<table border=\"1\" class=\"dataframe\">\n",
       "  <thead>\n",
       "    <tr style=\"text-align: right;\">\n",
       "      <th></th>\n",
       "      <th>id</th>\n",
       "      <th>create_date</th>\n",
       "      <th>last_modified</th>\n",
       "      <th>number_updates</th>\n",
       "      <th>room_url</th>\n",
       "    </tr>\n",
       "  </thead>\n",
       "  <tbody>\n",
       "    <tr>\n",
       "      <th>0</th>\n",
       "      <td>18086628</td>\n",
       "      <td>2024-06-12 07:32:51</td>\n",
       "      <td>2024-06-12 20:39:08</td>\n",
       "      <td>6</td>\n",
       "      <td>www.airbnb.com/rooms/18086628?adults=2&amp;childre...</td>\n",
       "    </tr>\n",
       "  </tbody>\n",
       "</table>\n",
       "</div>"
      ],
      "text/plain": [
       "         id          create_date        last_modified  number_updates  \\\n",
       "0  18086628  2024-06-12 07:32:51  2024-06-12 20:39:08               6   \n",
       "\n",
       "                                            room_url  \n",
       "0  www.airbnb.com/rooms/18086628?adults=2&childre...  "
      ]
     },
     "execution_count": 32,
     "metadata": {},
     "output_type": "execute_result"
    }
   ],
   "source": [
    "airbnb_room_df"
   ]
  },
  {
   "cell_type": "code",
   "execution_count": null,
   "id": "9f5538ad",
   "metadata": {},
   "outputs": [],
   "source": []
  }
 ],
 "metadata": {
  "kernelspec": {
   "display_name": "Python 3 (ipykernel)",
   "language": "python",
   "name": "python3"
  },
  "language_info": {
   "codemirror_mode": {
    "name": "ipython",
    "version": 3
   },
   "file_extension": ".py",
   "mimetype": "text/x-python",
   "name": "python",
   "nbconvert_exporter": "python",
   "pygments_lexer": "ipython3",
   "version": "3.11.9"
  }
 },
 "nbformat": 4,
 "nbformat_minor": 5
}
